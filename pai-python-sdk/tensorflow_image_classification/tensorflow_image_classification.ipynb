{
 "cells": [
  {
   "attachments": {},
   "cell_type": "markdown",
   "metadata": {},
   "source": [
    "# 使用 PAI Python SDK 训练和部署 TensorFlow 模型\n",
    "\n",
    "[TensorFlow](https://pytorch.org/) 是由Google开发的开源机器学习框架，它可以用于构建和训练各种类型的神经网络和机器学习模型。当前示例中，我们将使用PAI Python SDK，在PAI完成一个TensorFlow图片分类模型的训练和部署。主要流程包括：\n",
    "\n",
    "\n",
    "1. 安装和配置SDK\n",
    "\n",
    "安装PAI Python SDK，并完成SDK配置.\n",
    "\n",
    "2. 准备数据集:\n",
    "\n",
    "这里我们选择使用Fashion-MNIST数据集，将获取的数据集上传到OSS Bucket供训练作业使用。\n",
    "\n",
    "3. 提交训练作业\n",
    "\n",
    "按照PAI训练作业的范式，准备TensorFlow训练脚本，然后使用PAI Python SDK提供的Estimator API，将训练脚本提交到云上执行。\n",
    "\n",
    "4. 部署模型\n",
    "\n",
    "将以上训练作业输出的模型，部署到PAI-EAS，创建一个在线推理服务。\n",
    "\n"
   ]
  },
  {
   "attachments": {},
   "cell_type": "markdown",
   "metadata": {
    "pycharm": {
     "name": "#%% md\n"
    }
   },
   "source": [
    "## Step1: 准备工作\n",
    "\n",
    "\n",
    "我们需要首先安装PAI Python SDK以运行本示例。\n"
   ]
  },
  {
   "cell_type": "code",
   "execution_count": null,
   "metadata": {
    "tags": [
     "skip-execution"
    ]
   },
   "outputs": [],
   "source": [
    "!python -m pip install --upgrade alipai"
   ]
  },
  {
   "attachments": {},
   "cell_type": "markdown",
   "metadata": {},
   "source": [
    "\n",
    "SDK 需要配置访问阿里云服务需要的 AccessKey，以及当前使用的工作空间和OSS Bucket。在 PAI SDK 安装之后，通过在 **命令行终端** 中执行以下命令，按照引导配置密钥，工作空间等信息。\n",
    "\n",
    "\n",
    "```shell\n",
    "\n",
    "# 以下命令，请在 命令行终端 中执行.\n",
    "\n",
    "python -m pai.toolkit.config\n",
    "\n",
    "```\n",
    "\n",
    "我们可以通过以下代码验证当前的配置。"
   ]
  },
  {
   "cell_type": "code",
   "execution_count": null,
   "metadata": {
    "pycharm": {
     "name": "#%%\n"
    }
   },
   "outputs": [],
   "source": [
    "import pai\n",
    "from pai.session import get_default_session\n",
    "\n",
    "print(pai.__version__)\n",
    "\n",
    "sess = get_default_session()\n",
    "\n",
    "assert sess.workspace_name is not None\n",
    "print(sess.workspace_name)"
   ]
  },
  {
   "attachments": {},
   "cell_type": "markdown",
   "metadata": {
    "pycharm": {
     "name": "#%% md\n"
    }
   },
   "source": [
    "## Step2: 准备训练数据\n",
    "\n",
    "[FashionMNIST](https://github.com/zalandoresearch/fashion-mnist)是一个流行的视觉分类数据集，数据集中包含70,000张28x28像素的灰度图像，这些图像代表了10种不同类型的服装，包括衬衣、裤子、套装、鞋子等等。当前示例将使用`FashionMNIST`数据集训练一个服饰图片分类模型。\n",
    "\n",
    "我们将首先下载数据到本地，然后再上传到OSS bucket中，供训练作业使用。\n"
   ]
  },
  {
   "cell_type": "code",
   "execution_count": null,
   "metadata": {},
   "outputs": [],
   "source": [
    "\n",
    "\n",
    "# 下载训练数据集\n",
    "!mkdir -p fashion-mnist/train/\n",
    "!wget http://fashion-mnist.s3-website.eu-central-1.amazonaws.com/train-images-idx3-ubyte.gz -O fashion-mnist/train/images.gz\n",
    "!wget http://fashion-mnist.s3-website.eu-central-1.amazonaws.com/train-labels-idx1-ubyte.gz -O fashion-mnist/train/labels.gz\n",
    "\n",
    "\n",
    "# 下载测试数据集\n",
    "!mkdir -p fashion-mnist/test/\n",
    "!wget http://fashion-mnist.s3-website.eu-central-1.amazonaws.com/t10k-images-idx3-ubyte.gz -O fashion-mnist/test/images.gz\n",
    "!wget http://fashion-mnist.s3-website.eu-central-1.amazonaws.com/t10k-labels-idx1-ubyte.gz -O fashion-mnist/test/labels.gz\n",
    "\n",
    "!ls -lh fashion-mnist"
   ]
  },
  {
   "cell_type": "code",
   "execution_count": null,
   "metadata": {},
   "outputs": [],
   "source": [
    "from pai.common.oss_utils import upload\n",
    "from pai.session import get_default_session\n",
    "\n",
    "sess = get_default_session()\n",
    "\n",
    "train_data = upload(\n",
    "    \"fashion-mnist/train/\",\n",
    "    \"example/data/fashion_mnist/train/\",\n",
    "    bucket=sess.oss_bucket,\n",
    ")\n",
    "\n",
    "\n",
    "test_data = upload(\n",
    "    \"fashion-mnist/test/\",\n",
    "    \"example/data/fashion_mnist/test/\",\n",
    "    bucket=sess.oss_bucket,\n",
    ")\n",
    "\n",
    "print(\"train_data\", train_data)\n",
    "print(\"test_data\", test_data)"
   ]
  },
  {
   "attachments": {},
   "cell_type": "markdown",
   "metadata": {
    "tags": [
     "keep_output"
    ]
   },
   "source": [
    "在本地环境中，加载和验证下载的数据集。"
   ]
  },
  {
   "cell_type": "code",
   "execution_count": null,
   "metadata": {},
   "outputs": [],
   "source": [
    "!python -m pip install pillow\n",
    "\n",
    "import gzip\n",
    "import os\n",
    "import numpy as np\n",
    "from PIL import Image\n",
    "from IPython import display\n",
    "\n",
    "\n",
    "def load_dataset(data_path):\n",
    "    image_path = os.path.join(data_path, \"images.gz\")\n",
    "    label_path = os.path.join(data_path, \"labels.gz\")\n",
    "\n",
    "    with gzip.open(label_path, \"rb\") as f:\n",
    "        labels = np.frombuffer(f.read(), dtype=np.int8, offset=8)\n",
    "\n",
    "    with gzip.open(image_path, \"rb\") as f:\n",
    "        images = np.frombuffer(f.read(), dtype=np.int8, offset=16).reshape(\n",
    "            len(labels), 28, 28, 1\n",
    "        )\n",
    "\n",
    "    return images, labels\n",
    "\n",
    "\n",
    "test_images, test_labels = load_dataset(\"./fashion-mnist/test/\")\n",
    "train_images, train_labels = load_dataset(\"./fashion-mnist/test/\")\n",
    "\n",
    "for arr in test_images[:5]:\n",
    "    im = Image.fromarray(arr.reshape(28, 28), mode=\"L\").resize((100, 100))\n",
    "    display.display(im)"
   ]
  },
  {
   "attachments": {},
   "cell_type": "markdown",
   "metadata": {},
   "source": [
    "## Step2: 提交训练作业\n",
    "\n",
    "通过SDK提供的`Estimator`API，用户可以将本地训练作业脚本提交到PAI执行。\n",
    "\n",
    "### 2.1. 准备训练脚本\n",
    "\n",
    "以下我们将基于TensorFlow提供的HighLevel Keras 构建一个2层的卷积神经网络训练模型，对于TensorFlow以及Keras API的详细介绍请参见TensorFlow的官方文档: [Basic classification: Classify images of clothing](https://www.tensorflow.org/tutorials/keras/classification)\n",
    "\n",
    "训练脚本将被提交到PAI执行，在训练脚本的输入输出数据以及超参上需要遵循以下规范：\n",
    "\n",
    "- 训练作业脚本通过读取本地文件的方式读取挂载到执行环境的数据\n",
    "\n",
    "输入数据通过 `.fit` API 传递，对应的数据存储路径会被准备到训练作业容器中。执行的训练脚本可以通过环境变量`PAI_INPUT_{CHANNEL_NAME}` 获取输入数据的挂载路径，然后通过读取本地文件的方式拿到输入的数据。\n",
    "\n",
    "\n",
    "- 训练脚本需要将输出的模型保存到指定路径\n",
    "\n",
    "用户的训练代码必须在训练作业结束之后，将模型写出到 `PAI_OUTPUT_MODEL` 环境变量对应的路径下（默认为 `/ml/output/model/`）。\n",
    "\n",
    "- 使用输入超参\n",
    "\n",
    "训练服务预置了一些环境变量，支持用户引用获取超参，输入数据等，其中`PAI_USER_ARGS`是将用户指定的超参以命令行参数的形式拼接起来的字符串。用户的训练脚本可以通过Python argparse库解析输入的超参。\n"
   ]
  },
  {
   "cell_type": "code",
   "execution_count": null,
   "metadata": {},
   "outputs": [],
   "source": [
    "!mkdir -p tf_train_src"
   ]
  },
  {
   "cell_type": "code",
   "execution_count": null,
   "metadata": {},
   "outputs": [],
   "source": [
    "%%writefile tf_train_src/train.py\n",
    "\n",
    "import tensorflow as tf\n",
    "import argparse\n",
    "import gzip\n",
    "import os\n",
    "import numpy as np\n",
    "\n",
    "def load_dataset(data_path):\n",
    "    image_path = os.path.join(data_path, \"images.gz\")\n",
    "    label_path = os.path.join(data_path, \"labels.gz\")\n",
    "    with gzip.open(label_path, \"rb\") as f:\n",
    "        labels = np.frombuffer(\n",
    "            f.read(), dtype=np.int8, offset=8\n",
    "        )\n",
    "    with gzip.open(image_path, \"rb\") as f:\n",
    "        images = np.frombuffer(\n",
    "            f.read(), dtype=np.int8, offset=16\n",
    "        ).reshape(len(labels), 28, 28, 1)\n",
    "    return images, labels\n",
    "\n",
    "\n",
    "def train(batch_size, epochs, train_data, test_data):\n",
    "\n",
    "    # Load dataset from input channel 'train' and 'test'.\n",
    "    train_images, train_labels = load_dataset(train_data)\n",
    "    test_images, test_labels = load_dataset(test_data)\n",
    "\n",
    "    # model train\n",
    "    num_classes = 10\n",
    "    model = tf.keras.Sequential([\n",
    "        tf.keras.layers.Conv2D(8, (3, 3), activation=\"relu\", input_shape=(28, 28, 1)),\n",
    "        tf.keras.layers.MaxPooling2D((2, 2)),\n",
    "        tf.keras.layers.BatchNormalization(),\n",
    "        tf.keras.layers.Conv2D(16, (3, 3), activation=\"relu\"),\n",
    "        tf.keras.layers.MaxPooling2D((2, 2)),\n",
    "        tf.keras.layers.Dropout(0.3),\n",
    "        tf.keras.layers.Flatten(),\n",
    "        tf.keras.layers.Dense(64, activation='relu'),\n",
    "        tf.keras.layers.Dense(num_classes),\n",
    "        \n",
    "    ])\n",
    "    model.compile(optimizer='adam',\n",
    "                loss=tf.keras.losses.SparseCategoricalCrossentropy(from_logits=True),\n",
    "                metrics=['accuracy'])\n",
    "\n",
    "    model.fit(train_images, train_labels, batch_size=batch_size, epochs=epochs, validation_data=(test_images, test_labels), verbose=2)\n",
    "\n",
    "    # save model\n",
    "\n",
    "    model_path = os.environ.get(\"PAI_OUTPUT_MODEL\")\n",
    "    model.save(model_path)\n",
    "\n",
    "    return model\n",
    "\n",
    "\n",
    "def main():\n",
    "    parser = argparse.ArgumentParser(description=\"PyTorch MNIST Example\")\n",
    "    parser.add_argument(\n",
    "        \"--batch_size\",\n",
    "        type=int,\n",
    "        default=64,\n",
    "        metavar=\"N\",\n",
    "        help=\"input batch size for training (default: 64)\",\n",
    "    )\n",
    "    parser.add_argument(\n",
    "        \"--epochs\",\n",
    "        type=int,\n",
    "        default=14,\n",
    "        metavar=\"N\",\n",
    "        help=\"number of epochs to train (default: 14)\",\n",
    "    )\n",
    "    parser.add_argument(\n",
    "        \"--train_data\",\n",
    "        default=os.environ.get(\"PAI_INPUT_TRAIN\"),\n",
    "        help=\"Path to train data (default: /ml/input/data/train/)\",\n",
    "    )\n",
    "    parser.add_argument(\n",
    "        \"--test_data\",\n",
    "        default=os.environ.get(\"PAI_INPUT_TEST\"),\n",
    "        help=\"Path to test data (default: /ml/input/data/test/)\",\n",
    "    )\n",
    "\n",
    "    args = parser.parse_args()\n",
    "\n",
    "    train(args.batch_size, args.epochs, args.train_data, args.test_data)\n",
    "\n",
    "\n",
    "if __name__ == \"__main__\":\n",
    "    main()"
   ]
  },
  {
   "attachments": {},
   "cell_type": "markdown",
   "metadata": {},
   "source": [
    "用户可以在本地测试对应的训练作业脚本，例如通过类似的以下命令\n",
    "\n",
    "```shell\n",
    "\n",
    "python tf_train_src/train.py --batch_size 32 --epochs 10 --train_data ./fashion-mnist/train --test_data ./fashion-mnist/test\n",
    "\n",
    "```\n",
    "\n"
   ]
  },
  {
   "attachments": {},
   "cell_type": "markdown",
   "metadata": {},
   "source": [
    "### 2.3. 使用 Estimator 提交训练作业\n",
    "\n",
    "\n",
    "`Estimator` 支持用户将本地的训练脚本，提交到 PAI ，使用云上的资源执行训练作业，他的主要参数包括以下:\n",
    "\n",
    "- 用户通过 `entry_point` 和  `source_dir` 指定训练脚本:\n",
    "\n",
    "`source_dir` 目录是本地执行脚本所在的目录，对应的目录会被打包上传到用户的OSS Bucket，然后准备到训练容器的 `/ml/usercode` 目录下。 `entry_point` 是训练作业的启动脚本，支持使用 Python 或是 Shell 文件。\n",
    "\n",
    "- 通过 `image_uri` 指定作业的训练镜像:\n",
    "\n",
    "在当前示例中，我们使用PAI提供的 `2.3` 版本的TensorFlow CPU镜像提交训练作业。\n",
    "\n",
    "\n",
    "- 通过 `hyperparameters` 传递的作业使用的超参:\n",
    "\n",
    "超参会通过命令行 arguments 的方式传递给到训练脚本。 例如以下示例中，对应的训练脚本的启动命令为:\n",
    "\n",
    "```shell\n",
    "\n",
    "python train.py --epochs 20 --batch-size 32\n",
    "\n",
    "```\n",
    "\n",
    "- 使用 `metric_definitions` 指定需要采集的Metric:\n",
    "\n",
    "PAI 的训练服务从训练作业输出日志中，以正则的方式捕获用户指定的Metrics信息。用户可以通过作业详情页查看输出日志。\n",
    "\n",
    "- 使用 `instance_type` 指定作业使用的机器实例类型:\n",
    "\n",
    "对于提交训练作业的更加详细的介绍，请查看 [文档:提交训练作业](https://pai-sdk.oss-cn-shanghai.aliyuncs.com/pai/doc/latest/user-guide/estimator.html)\n",
    "\n",
    "在通过 `.fit` API提交训练作业之后，控制台会打印训练作业的控制台详情链接，用户可以通过该链接到控制台查看作业的日志，采集的Metric，机器资源利用率等更多训练作业信息。"
   ]
  },
  {
   "cell_type": "code",
   "execution_count": null,
   "metadata": {},
   "outputs": [],
   "source": [
    "from pai.estimator import Estimator\n",
    "from pai.image import retrieve\n",
    "\n",
    "\n",
    "# 获取PAI提供的TensorFlow 2.3的CPU镜像\n",
    "image_uri = retrieve(\"TensorFlow\", framework_version=\"2.3\").image_uri\n",
    "print(image_uri)\n",
    "\n",
    "# 配置训练作业\n",
    "est = Estimator(\n",
    "    command=\"python train.py $PAI_USER_ARGS\",\n",
    "    source_dir=\"./tf_train_src/\",\n",
    "    image_uri=image_uri,\n",
    "    instance_type=\"ecs.g6.xlarge\",\n",
    "    instance_count=1,\n",
    "    hyperparameters={\n",
    "        \"batch_size\": 32,\n",
    "        \"epochs\": 20,\n",
    "    },\n",
    "    metric_definitions=[\n",
    "        {\n",
    "            \"Name\": \"loss\",\n",
    "            \"Regex\": r\".*loss: ([-+]?[0-9]*.?[0-9]+(?:[eE][-+]?[0-9]+)?).*\",\n",
    "        },\n",
    "        {\n",
    "            \"Name\": \"accuracy\",\n",
    "            \"Regex\": r\".*accuracy: ([-+]?[0-9]*.?[0-9]+(?:[eE][-+]?[0-9]+)?).*\",\n",
    "        },\n",
    "        {\n",
    "            \"Name\": \"val_loss\",\n",
    "            \"Regex\": r\".*val_loss: ([-+]?[0-9]*.?[0-9]+(?:[eE][-+]?[0-9]+)?).*\",\n",
    "        },\n",
    "        {\n",
    "            \"Name\": \"val_accuracy\",\n",
    "            \"Regex\": r\".*val_accuracy: ([-+]?[0-9]*.?[0-9]+(?:[eE][-+]?[0-9]+)?).*\",\n",
    "        },\n",
    "    ],\n",
    "    base_job_name=\"tf_tutorial_\",\n",
    ")\n",
    "\n",
    "# 提交训练作业\n",
    "est.fit(\n",
    "    {\n",
    "        \"train\": train_data,\n",
    "        \"test\": test_data,\n",
    "    }\n",
    ")\n",
    "\n",
    "print(est.model_data())"
   ]
  },
  {
   "attachments": {},
   "cell_type": "markdown",
   "metadata": {},
   "source": [
    "在训练结束之后，用户可以通过`est.model_data()` API拿到用户写出到`/ml/output/model`路径下的模型保存到OSS后的路径地址。"
   ]
  },
  {
   "cell_type": "code",
   "execution_count": null,
   "metadata": {},
   "outputs": [],
   "source": [
    "print(est.model_data())"
   ]
  },
  {
   "attachments": {},
   "cell_type": "markdown",
   "metadata": {
    "pycharm": {
     "name": "#%% md\n"
    }
   },
   "source": [
    "## Step3: 部署推理服务\n",
    "\n",
    "以下我们将训练产出的模型部署到 PAI 创建在线推理服务，部署推理服务的主要流程包括：\n",
    "\n",
    "- 通过 `InferenceSpec` 描述如何使用模型构建推理服务。\n",
    "\n",
    "用户可以选择使用 Processor 模式，或是自定义镜像的模式进行模型部署。这里我们使用了 PAI 提供的预置 TensorFlow Processor部署一个在线服务。\n",
    "\n",
    "- 通过 `Model.deploy` 方法，配置服务的使用资源，服务名称，等信息，创建推理服务。\n",
    "\n",
    "- 通过 deploy 方法返回的 `Predictor`，可以向推理服务发送预测请求。\n",
    "\n",
    "对于部署推理服务的详细介绍，可以见: [文档:部署推理服务](https://pai-sdk.oss-cn-shanghai.aliyuncs.com/pai/doc/latest/user-guide/model.html)"
   ]
  },
  {
   "attachments": {},
   "cell_type": "markdown",
   "metadata": {},
   "source": [
    "[Processor](https://help.aliyun.com/document_detail/111029.html) 是 PAI 对于推理服务程序包的抽象描述，他负责加载模型，启动模型推理服务。模型推理服务会暴露 API 支持用户进行调用。\n",
    "\n",
    "对于 TensorFLow，PAI提供了预置的 [TensorFlow Processor](https://help.aliyun.com/document_detail/468737.html) ，用户可以方便得将获得的 [SavedModel](https://www.tensorflow.org/guide/saved_model) 格式的模型部署到 PAI，创建推理服务。\n"
   ]
  },
  {
   "cell_type": "code",
   "execution_count": null,
   "metadata": {
    "pycharm": {
     "name": "#%%\n"
    },
    "tags": []
   },
   "outputs": [],
   "source": [
    "from pai.model import Model, InferenceSpec\n",
    "from pai.common.utils import random_str\n",
    "\n",
    "\n",
    "m = Model(\n",
    "    model_data=est.model_data(),\n",
    "    # 这里使用了 2.3 版本的 TensorFlow Processor。\n",
    "    # 一般情况下建议用户使用最新的TensorFlow Processor创建服务。\n",
    "    inference_spec=InferenceSpec(processor=\"tensorflow_cpu_2.3\"),\n",
    ")\n",
    "\n",
    "p = m.deploy(\n",
    "    service_name=\"tutorial_tf_{}\".format(random_str(6)),\n",
    "    instance_type=\"ecs.c6.xlarge\",\n",
    ")\n",
    "\n",
    "print(p.service_name)\n",
    "print(p.service_status)"
   ]
  },
  {
   "attachments": {},
   "cell_type": "markdown",
   "metadata": {},
   "source": [
    "\n",
    "`Model.deploy` 返回的 `Predictor` 对象指向新创建的推理服务，可以通过 predictor 获取在线服务的状态，发送在线请求给到推理服务。\n",
    "\n",
    "使用 TensorFlow Processor的在线服务，会通过一个API暴露推理服务的模型的签名信息，包含了模型的输入输出数据格式，[详情可见 TensorFlow Processor介绍](https://help.aliyun.com/document_detail/468737.html#section-w41-c2x-vsb)。\n",
    "\n",
    "> 当前仅 TensorFlow Processor 拉起的在线服务支持获取模型签名信息。\n",
    "\n",
    "通过 SDK 提供的 `predictor.inspect_model_signature` 获取相应的模型签名。"
   ]
  },
  {
   "cell_type": "code",
   "execution_count": null,
   "metadata": {
    "tags": [
     "keep_output"
    ]
   },
   "outputs": [
    {
     "name": "stdout",
     "output_type": "stream",
     "text": [
      "{\n",
      "    \"signature_name\": \"serving_default\",\n",
      "    \"inputs\": [\n",
      "        {\n",
      "            \"name\": \"conv2d_input\",\n",
      "            \"shape\": [\n",
      "                -1,\n",
      "                28,\n",
      "                28,\n",
      "                1\n",
      "            ],\n",
      "            \"type\": \"DT_FLOAT\"\n",
      "        }\n",
      "    ],\n",
      "    \"outputs\": [\n",
      "        {\n",
      "            \"name\": \"dense_1\",\n",
      "            \"shape\": [\n",
      "                -1,\n",
      "                10\n",
      "            ],\n",
      "            \"type\": \"DT_FLOAT\"\n",
      "        }\n",
      "    ]\n",
      "}\n"
     ]
    }
   ],
   "source": [
    "import json\n",
    "\n",
    "\n",
    "model_signauture_def = p.inspect_model_signature_def()\n",
    "\n",
    "print(json.dumps(model_signauture_def, indent=4))"
   ]
  },
  {
   "attachments": {},
   "cell_type": "markdown",
   "metadata": {
    "pycharm": {
     "name": "#%% md\n"
    }
   },
   "source": [
    "通过 `Predictor.predict` 方法，可以向推理服务发送预测请求，拿到模型推理之后的结果。\n",
    "\n",
    "通过 `inspect_model_signature_def`，我们可以拿到模型的输入签名信息，然后可以使用对应的信息构建我们的请求数据。以上的模型只有一个Input，Name是 conv2d_input，输入数据格式是 (-1, 28, 28, 1)，分别为 (BatchSize, Height, Width, ChannelCount), 我们需要将数据reshpe成符合要求的格式，然后发送给到推理服务。"
   ]
  },
  {
   "cell_type": "code",
   "execution_count": null,
   "metadata": {
    "tags": [
     "keep_output"
    ]
   },
   "outputs": [
    {
     "data": {
      "image/png": "[encoded data removed]",
      "text/plain": [
       "<PIL.Image.Image image mode=L size=100x100>"
      ]
     },
     "metadata": {},
     "output_type": "display_data"
    },
    {
     "name": "stdout",
     "output_type": "stream",
     "text": [
      "Ankle boot\n"
     ]
    },
    {
     "data": {
      "image/png": "[encoded data removed]",
      "text/plain": [
       "<PIL.Image.Image image mode=L size=100x100>"
      ]
     },
     "metadata": {},
     "output_type": "display_data"
    },
    {
     "name": "stdout",
     "output_type": "stream",
     "text": [
      "Pullover\n"
     ]
    },
    {
     "data": {
      "image/png": "[encoded data removed]",
      "text/plain": [
       "<PIL.Image.Image image mode=L size=100x100>"
      ]
     },
     "metadata": {},
     "output_type": "display_data"
    },
    {
     "name": "stdout",
     "output_type": "stream",
     "text": [
      "Trouser\n"
     ]
    },
    {
     "data": {
      "image/png": "[encoded data removed]",
      "text/plain": [
       "<PIL.Image.Image image mode=L size=100x100>"
      ]
     },
     "metadata": {},
     "output_type": "display_data"
    },
    {
     "name": "stdout",
     "output_type": "stream",
     "text": [
      "Trouser\n"
     ]
    },
    {
     "data": {
      "image/png": "[encoded data removed]",
      "text/plain": [
       "<PIL.Image.Image image mode=L size=100x100>"
      ]
     },
     "metadata": {},
     "output_type": "display_data"
    },
    {
     "name": "stdout",
     "output_type": "stream",
     "text": [
      "T-shirt/top\n"
     ]
    }
   ],
   "source": [
    "from IPython import display\n",
    "from PIL import Image\n",
    "import numpy as np\n",
    "\n",
    "class_names = [\n",
    "    \"T-shirt/top\",\n",
    "    \"Trouser\",\n",
    "    \"Pullover\",\n",
    "    \"Dress\",\n",
    "    \"Coat\",\n",
    "    \"Sandal\",\n",
    "    \"Shirt\",\n",
    "    \"Sneaker\",\n",
    "    \"Bag\",\n",
    "    \"Ankle boot\",\n",
    "]\n",
    "\n",
    "\n",
    "for arr in test_images[:5]:\n",
    "\n",
    "    res = p.predict(\n",
    "        data={\n",
    "            \"conv2d_input\": arr.reshape(1, 28, 28, 1),\n",
    "        }\n",
    "    )\n",
    "    idx = np.argmax(res[\"dense_1\"][0])\n",
    "    display.display(Image.fromarray(arr.reshape(28, 28), mode=\"L\").resize((100, 100)))\n",
    "    print(class_names[idx])"
   ]
  },
  {
   "attachments": {},
   "cell_type": "markdown",
   "metadata": {
    "pycharm": {
     "name": "#%% md\n"
    }
   },
   "source": [
    "在测试完成之后，删除相关的服务，释放资源。"
   ]
  },
  {
   "cell_type": "code",
   "execution_count": null,
   "metadata": {},
   "outputs": [],
   "source": [
    "p.delete_service()"
   ]
  }
 ],
 "metadata": {
  "execution": {
   "timeout": 1800
  },
  "kernelspec": {
   "display_name": "Python 3",
   "language": "python",
   "name": "python3"
  },
  "language_info": {
   "codemirror_mode": {
    "name": "ipython",
    "version": 3
   },
   "file_extension": ".py",
   "mimetype": "text/x-python",
   "name": "python",
   "nbconvert_exporter": "python",
   "pygments_lexer": "ipython3",
   "version": "3.8.3"
  }
 },
 "nbformat": 4,
 "nbformat_minor": 0
}
